{
 "cells": [
  {
   "cell_type": "code",
   "execution_count": null,
   "id": "aad81dc7-06b1-4830-b606-79f0a729b41a",
   "metadata": {},
   "outputs": [],
   "source": []
  }
 ],
 "metadata": {
  "kernelspec": {
   "display_name": "",
   "name": ""
  },
  "language_info": {
   "name": ""
  }
 },
 "nbformat": 4,
 "nbformat_minor": 5
}
